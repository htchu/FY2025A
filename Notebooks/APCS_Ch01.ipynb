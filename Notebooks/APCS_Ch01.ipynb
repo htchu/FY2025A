{
  "cells": [
    {
      "cell_type": "markdown",
      "metadata": {
        "id": "EUjJ7ImLnPVr"
      },
      "source": [
        "![image](https://www.python.org/static/img/python-logo.png)\n",
        "# 豐中啟思博學習APCS-Chapter01\n",
        "[![Open In Colab](https://colab.research.google.com/assets/colab-badge.svg)](https://colab.research.google.com/github/googlecolab/colabtools/blob/master/notebooks/colab-github-demo.ipynb)\n"
      ]
    },
    {
      "cell_type": "markdown",
      "metadata": {
        "id": "Zk0MAMNlo_gx"
      },
      "source": [
        "#Chapter01-Python 程式語言和IPO-model\n",
        "\n",
        "Python 是一種腳本程式語言，意思是只要寫好一行的指令就可以執行。而Google Colab提供最簡單的方式來編寫和執行Python程式語言。在下面每一個程式區塊(code cell) 都可以單獨執行。而比較大的程式，程式可以跨區塊執行。\n",
        "\n",
        "Python是易學、功能強大的程式語言。在本課程中，我們會介紹Python基本語法(變數、運算、流程控制和資料結構)等，讓同學在未來可以做為學習進階資料科學或深度學習等課程的基礎。\n",
        "\n",
        "完成第一個程式很簡單，在所有程式語言，第一個程式叫Hello程式，Python 的Hello程式超簡單，就是下面一行：\n",
        "\n",
        "```\n",
        "print('Hello World')\n",
        "```\n",
        "\n"
      ]
    },
    {
      "cell_type": "code",
      "execution_count": null,
      "metadata": {
        "id": "X-HFB-nRrGDe"
      },
      "outputs": [],
      "source": [
        "#把Hello World程式貼在這個下面，然後按左側的執行鍵或(Ctrl+Enter鍵)....\n",
        "print('Hello World')"
      ]
    },
    {
      "cell_type": "markdown",
      "metadata": {
        "id": "g-ZT0jKHrSts"
      },
      "source": [
        "在上面程式，我們使用了一個函數print()，print會合併其輸入的參數，然後，輸出一行的文字。\n",
        "\n",
        "下面我們有各種Hello World程式的變型。大家可以觀察其不同。\n"
      ]
    },
    {
      "cell_type": "markdown",
      "metadata": {
        "id": "kLe1GoiTtrgI"
      },
      "source": [
        "## Topic 1-Hello World程式"
      ]
    },
    {
      "cell_type": "markdown",
      "metadata": {
        "id": "cHiXWmApnZ_W"
      },
      "source": [
        "### Step 1: 各種Hello World的寫法\n"
      ]
    },
    {
      "cell_type": "code",
      "execution_count": null,
      "metadata": {
        "id": "8JL0O3Dw0hVK"
      },
      "outputs": [],
      "source": [
        "print('Hello World!')"
      ]
    },
    {
      "cell_type": "code",
      "execution_count": null,
      "metadata": {
        "id": "eF-jycTxnY9-"
      },
      "outputs": [],
      "source": [
        "print('Hello '+'World!')"
      ]
    },
    {
      "cell_type": "code",
      "execution_count": null,
      "metadata": {
        "id": "7AzrK1j_npYa"
      },
      "outputs": [],
      "source": [
        "print(\"Hello World!\")"
      ]
    },
    {
      "cell_type": "code",
      "execution_count": null,
      "metadata": {
        "id": "EbZnPm_GnzgW"
      },
      "outputs": [],
      "source": [
        "print(\"Hello\");  print(\"World!\")"
      ]
    },
    {
      "cell_type": "code",
      "execution_count": null,
      "metadata": {
        "id": "yF49kRbdOhTU"
      },
      "outputs": [],
      "source": []
    },
    {
      "cell_type": "code",
      "execution_count": null,
      "metadata": {
        "id": "7honmgYyqx0w"
      },
      "outputs": [],
      "source": [
        "print(\"Hello World!\") #註解是不會執行的"
      ]
    },
    {
      "cell_type": "markdown",
      "metadata": {
        "id": "G7fyYaJm8bzg"
      },
      "source": [
        "*  Python的字串可以用單引號或雙引號"
      ]
    },
    {
      "cell_type": "code",
      "execution_count": null,
      "metadata": {
        "id": "j410MQ2VSA5g"
      },
      "outputs": [],
      "source": []
    },
    {
      "cell_type": "markdown",
      "metadata": {
        "id": "RATZKmu_n4_F"
      },
      "source": [
        "### Step 2: Run \"Hello World\" by Online Python\n",
        "* 使用Online Python\n",
        "* 在 main.py 寫入 print(\"Hello World!\")\n"
      ]
    },
    {
      "cell_type": "markdown",
      "metadata": {
        "id": "WBqSanjvXnxs"
      },
      "source": [
        "<img src=\"https://i.ibb.co/7xNw717S/fig1a.png\" alt=\"fig1a\" border=\"0\">"
      ]
    },
    {
      "cell_type": "markdown",
      "metadata": {
        "id": "15oommtNYiYg"
      },
      "source": [
        "* 執行程式\n",
        "\n",
        "<img src=\"https://i.ibb.co/ks11wP1H/fig1b.png\" alt=\"fig1b\" border=\"0\">"
      ]
    },
    {
      "cell_type": "markdown",
      "metadata": {
        "id": "MmdyzEarPCjx"
      },
      "source": [
        "## Topic 2-IPO model-(1)\n",
        "\n",
        "\n",
        "![image](https://i.ibb.co/hmLFfRj/ipo1.png)\n"
      ]
    },
    {
      "cell_type": "markdown",
      "metadata": {
        "id": "VnMo1y-kujl2"
      },
      "source": [
        "### Step 1: 使用input()函數輸入變數的值\n",
        "Python中使用input()函數讀入輸入的資料。\n",
        "\n",
        "函數語法： input([prompt]) 參數prompt是提示訊息，跟輸入的值無關。\n",
        "\n",
        "呼叫一次input()函數會輸入一個字串。"
      ]
    },
    {
      "cell_type": "code",
      "execution_count": null,
      "metadata": {
        "id": "uJbEBoQR3QTM"
      },
      "outputs": [],
      "source": [
        "name = input('Please input your name：')\n",
        "print('Hello, ', name)\n",
        "print(type(name))   #列印變數的型別"
      ]
    },
    {
      "cell_type": "markdown",
      "metadata": {
        "id": "dLQMkIjNoqVk"
      },
      "source": [
        "### Step 2: Assignment statement (指定敘述)\n",
        "* Assignment (賦值) 符號\"=\"\n",
        "* 左邊是Variables (變數)\n",
        "* 右邊是有型別(date type)的值 (value)"
      ]
    },
    {
      "cell_type": "code",
      "execution_count": null,
      "metadata": {
        "id": "xDGDNhPfKZtW"
      },
      "outputs": [],
      "source": [
        "#Numbers\n",
        "counter = 100          # An integer assignment\n",
        "miles = 1000.0       # A floating point\n",
        "name = 'John'       # A string"
      ]
    },
    {
      "cell_type": "markdown",
      "metadata": {
        "id": "SikgZwdSsjnz"
      },
      "source": [
        "### Step 3: Python 二個內建基本函數help()和 type()\n",
        "* help()  函數說明\n",
        "* type()  變數類別"
      ]
    },
    {
      "cell_type": "code",
      "execution_count": null,
      "metadata": {
        "id": "i-9BPj_t1dkw"
      },
      "outputs": [],
      "source": [
        "help(type)"
      ]
    },
    {
      "cell_type": "code",
      "execution_count": null,
      "metadata": {
        "id": "RAl6qI6huXXF"
      },
      "outputs": [],
      "source": [
        "help(input)"
      ]
    },
    {
      "cell_type": "code",
      "execution_count": null,
      "metadata": {
        "id": "pVXa9Xu-KclT"
      },
      "outputs": [],
      "source": [
        "type(counter)"
      ]
    },
    {
      "cell_type": "code",
      "execution_count": null,
      "metadata": {
        "id": "ArjQALkBKiQz"
      },
      "outputs": [],
      "source": [
        "type(miles)"
      ]
    },
    {
      "cell_type": "code",
      "execution_count": null,
      "metadata": {
        "id": "lhfwl-RyKjlQ"
      },
      "outputs": [],
      "source": [
        "type(name)"
      ]
    },
    {
      "cell_type": "markdown",
      "metadata": {
        "id": "CDPEHTzDrQ0C"
      },
      "source": [
        "### Step 4: 用print()函數輸出變數的值"
      ]
    },
    {
      "cell_type": "code",
      "execution_count": null,
      "metadata": {
        "id": "ExiSChA40noD"
      },
      "outputs": [],
      "source": [
        "help(print)"
      ]
    },
    {
      "cell_type": "code",
      "execution_count": null,
      "metadata": {
        "id": "XqZnJ5MFrC6y"
      },
      "outputs": [],
      "source": [
        "print(miles)      #列印變數的值\n",
        "print(type(miles))   #列印變數的型別"
      ]
    },
    {
      "cell_type": "code",
      "execution_count": null,
      "metadata": {
        "id": "HueRVbbirFoc"
      },
      "outputs": [],
      "source": [
        "print(name)      #列印變數的值\n",
        "print(type(name))   #列印變數的型別"
      ]
    },
    {
      "cell_type": "code",
      "execution_count": null,
      "metadata": {
        "id": "OtOojbjRz69y"
      },
      "outputs": [],
      "source": [
        "#Numbers\n",
        "counter = 100          # An integer assignment\n",
        "miles = 1000.0       # A floating point\n",
        "name = 'John'       # A string"
      ]
    },
    {
      "cell_type": "code",
      "execution_count": null,
      "metadata": {
        "id": "Ux246shVopsl"
      },
      "outputs": [],
      "source": [
        "print(counter)      #列印變數的值\n",
        "print(type(counter))   #列印變數的型別"
      ]
    },
    {
      "cell_type": "code",
      "execution_count": null,
      "metadata": {
        "id": "5N99x6QdsBRI"
      },
      "outputs": [],
      "source": [
        "my = True\n",
        "print(my)         #列印變數的值\n",
        "print(type(my))   #列印變數的型別"
      ]
    },
    {
      "cell_type": "code",
      "execution_count": null,
      "metadata": {
        "id": "OW_O47c2r0bL"
      },
      "outputs": [],
      "source": [
        "my = False\n",
        "print(my)         #列印變數的值\n",
        "print(type(my))   #列印變數的型別"
      ]
    },
    {
      "cell_type": "code",
      "execution_count": null,
      "metadata": {
        "id": "CmLcco-2sPcW"
      },
      "outputs": [],
      "source": [
        "my = None\n",
        "print(my)         #列印變數的值\n",
        "print(type(my))   #列印變數的型別"
      ]
    },
    {
      "cell_type": "markdown",
      "source": [
        "## Topic 3-輸入一個整數或浮點數\n",
        "\n",
        "Python中使用input()函數讀入輸入的資料。\n",
        "\n",
        "呼叫一次input()函數會輸入一個字串。\n",
        "\n",
        "如果我們要輸入一個整數或浮點數。可以使用int()或float()函數"
      ],
      "metadata": {
        "id": "_bgEQp28xJAU"
      }
    },
    {
      "cell_type": "markdown",
      "source": [
        "### Step 1: 輸入一個整數"
      ],
      "metadata": {
        "id": "MSdPUu-jxQ8b"
      }
    },
    {
      "cell_type": "code",
      "source": [
        "instr = input()\n",
        "score = int(instr)  #變整數\n",
        "print(score)      #列印變數的值\n",
        "print(type(score))   #列印變數的型別"
      ],
      "metadata": {
        "id": "UDuC2AFsxS7e"
      },
      "execution_count": null,
      "outputs": []
    },
    {
      "cell_type": "markdown",
      "source": [
        "### Step 2: 輸入一個浮點數"
      ],
      "metadata": {
        "id": "okVCGuPPxW5h"
      }
    },
    {
      "cell_type": "code",
      "source": [
        "instr = input()\n",
        "score = float(instr)  #變浮點數\n",
        "print(score)      #列印變數的值\n",
        "print(type(score))   #列印變數的型別"
      ],
      "metadata": {
        "id": "OV71c_Kqxe55"
      },
      "execution_count": null,
      "outputs": []
    },
    {
      "cell_type": "markdown",
      "source": [
        "* Python 型別轉換函數\n",
        " - int() #變整數\n",
        " - float() #變浮點數\n",
        " - str() #變字串\n",
        " - 變數名稱=int(字串變數)\n",
        " - 變數名稱=str(數值變數)"
      ],
      "metadata": {
        "id": "tMG7Fpnqxc0o"
      }
    },
    {
      "cell_type": "markdown",
      "source": [
        "## Topic 4-算術運算子和表示式(expressions)\n",
        "數值運算符號（Arithmetic Operators）\n",
        "```\n",
        "+ - * / #加減乘除\n",
        "** #次方\n",
        "// #商\n",
        "%  #餘數\n",
        "```"
      ],
      "metadata": {
        "id": "cp9qqGtRxYn0"
      }
    },
    {
      "cell_type": "markdown",
      "source": [
        "### Step 1: 加減乘除"
      ],
      "metadata": {
        "id": "QVrmXYzuxnJm"
      }
    },
    {
      "cell_type": "code",
      "source": [
        "print(1 + 2)\n",
        "print(3 - 4)\n",
        "print(5 * 6)\n",
        "print(12 / 5)"
      ],
      "metadata": {
        "id": "8nKuGkfOxo7t"
      },
      "execution_count": null,
      "outputs": []
    },
    {
      "cell_type": "code",
      "source": [
        "print(1.3 + 2)\n",
        "print(3 - 4.2)\n",
        "print(5 * 6.5)\n",
        "print(10.0 / 5)"
      ],
      "metadata": {
        "id": "kfIa7MdNxqtj"
      },
      "execution_count": null,
      "outputs": []
    },
    {
      "cell_type": "markdown",
      "source": [
        "### Step 2: 商和餘數"
      ],
      "metadata": {
        "id": "i4jeGPKqxuvA"
      }
    },
    {
      "cell_type": "code",
      "source": [
        "print(23 / 5)\n",
        "print(23 // 5)\n",
        "print(23 % 5)"
      ],
      "metadata": {
        "id": "R7kSR3UUxvet"
      },
      "execution_count": null,
      "outputs": []
    },
    {
      "cell_type": "markdown",
      "source": [
        "### Step 3: 次方"
      ],
      "metadata": {
        "id": "Eak9JTFQxzus"
      }
    },
    {
      "cell_type": "code",
      "source": [
        "print(23 * 2)\n",
        "print(23 ** 2)"
      ],
      "metadata": {
        "id": "71XbQe7Ox0bt"
      },
      "execution_count": null,
      "outputs": []
    }
  ],
  "metadata": {
    "colab": {
      "collapsed_sections": [
        "SikgZwdSsjnz"
      ],
      "provenance": []
    },
    "kernelspec": {
      "display_name": "Python 3",
      "language": "python",
      "name": "python3"
    },
    "language_info": {
      "codemirror_mode": {
        "name": "ipython",
        "version": 3
      },
      "file_extension": ".py",
      "mimetype": "text/x-python",
      "name": "python",
      "nbconvert_exporter": "python",
      "pygments_lexer": "ipython3",
      "version": "3.7.6"
    }
  },
  "nbformat": 4,
  "nbformat_minor": 0
}