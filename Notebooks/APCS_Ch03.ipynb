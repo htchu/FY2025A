{
  "cells": [
    {
      "cell_type": "markdown",
      "metadata": {
        "id": "EUjJ7ImLnPVr"
      },
      "source": [
        "![image](https://www.python.org/static/img/python-logo.png)\n",
        "# 啟思博學習APCS (實作題)-Chapter 03\n",
        "[![Open In Colab](https://colab.research.google.com/assets/colab-badge.svg)](https://colab.research.google.com/github/googlecolab/colabtools/blob/master/notebooks/colab-github-demo.ipynb)\n",
        "\n",
        "Built-in Functions\n",
        "https://docs.python.org/3/library/functions.html"
      ]
    },
    {
      "cell_type": "markdown",
      "metadata": {
        "id": "Zk0MAMNlo_gx"
      },
      "source": [
        "#Python基本資料結構和簡單流程控制\n",
        "\n",
        "![image](https://i.ibb.co/mD0PCYD/ipo4.png)\n"
      ]
    },
    {
      "cell_type": "markdown",
      "metadata": {
        "id": "jZ9bQuuEuODK"
      },
      "source": [
        "## Topic 1-for迴圈/for-loop"
      ]
    },
    {
      "cell_type": "markdown",
      "metadata": {
        "id": "a2QiuVQouUjq"
      },
      "source": [
        "### Step 1: 對list變數使用迴圈"
      ]
    },
    {
      "cell_type": "code",
      "execution_count": null,
      "metadata": {
        "id": "ZGZ_8oDouYUN",
        "colab": {
          "base_uri": "https://localhost:8080/"
        },
        "outputId": "a8377a62-be08-4e09-e2ba-faf5cd126ce9"
      },
      "outputs": [
        {
          "output_type": "stream",
          "name": "stdout",
          "text": [
            "Hello  John\n",
            "Hello  Mary\n",
            "Hello  Ken\n"
          ]
        }
      ],
      "source": [
        "students = ['John', 'Mary', 'Ken']\n",
        "for student in students:\n",
        "  print('Hello ', student)"
      ]
    },
    {
      "cell_type": "markdown",
      "metadata": {
        "id": "nBU6Jd88wve6"
      },
      "source": [
        "### Step 2: 使用迴圈,印出1-9/print out the numbers 1-9"
      ]
    },
    {
      "cell_type": "code",
      "execution_count": null,
      "metadata": {
        "id": "EyiI9xOBw1g_",
        "colab": {
          "base_uri": "https://localhost:8080/"
        },
        "outputId": "9e9979d9-adb8-4ae1-fcae-e6491d0c2213"
      },
      "outputs": [
        {
          "output_type": "stream",
          "name": "stdout",
          "text": [
            "1 2 3 4 5 6 7 8 9 "
          ]
        }
      ],
      "source": [
        "numbers = [1, 2, 3, 4, 5, 6, 7, 8, 9]\n",
        "for number in numbers:\n",
        "  print(number, end=' ')"
      ]
    },
    {
      "cell_type": "markdown",
      "metadata": {
        "id": "ITiys8w41AeF"
      },
      "source": [
        "### Step 3: 使用2層迴圈,印出99乘法表/print out the multiplication table"
      ]
    },
    {
      "cell_type": "code",
      "execution_count": null,
      "metadata": {
        "id": "EarRSzq4iprp"
      },
      "outputs": [],
      "source": [
        "numbers = [1, 2, 3, 4, 5, 6, 7, 8, 9]\n",
        "for a in numbers:\n",
        "  for b in numbers:\n",
        "    print(f'{a:1}*{b:1} ={a*b:2}', end=' ')\n",
        "  print()"
      ]
    },
    {
      "cell_type": "markdown",
      "metadata": {
        "id": "Ka6Jhrvd2e1o"
      },
      "source": [
        "## Topic 2-range()函數\n",
        "range(start, stop, step)"
      ]
    },
    {
      "cell_type": "markdown",
      "metadata": {
        "id": "SEaBUrwB3FQs"
      },
      "source": [
        "### Step 1: parameters of range(): begin/end"
      ]
    },
    {
      "cell_type": "code",
      "execution_count": null,
      "metadata": {
        "id": "R4KAvFpyiqz8",
        "colab": {
          "base_uri": "https://localhost:8080/"
        },
        "outputId": "b998c536-c884-4a93-e2cd-3e218bf665ef"
      },
      "outputs": [
        {
          "output_type": "stream",
          "name": "stdout",
          "text": [
            "1 2 3 4 5 6 7 8 9 \n"
          ]
        }
      ],
      "source": [
        "a = [1, 2, 3, 4, 5, 6, 7, 8, 9]\n",
        "for n in a:\n",
        "  print(f'{n}', end=' ')\n",
        "print()\n"
      ]
    },
    {
      "cell_type": "code",
      "execution_count": null,
      "metadata": {
        "id": "Gm-onKPB2pSO",
        "colab": {
          "base_uri": "https://localhost:8080/"
        },
        "outputId": "26f0f624-2de3-4832-d106-88e81f0d8ed8"
      },
      "outputs": [
        {
          "output_type": "stream",
          "name": "stdout",
          "text": [
            "1 2 3 4 5 6 7 8 9 \n"
          ]
        }
      ],
      "source": [
        "b = range(1, 10)#[1, 2, 3, 4, 5, 6, 7, 8, 9]\n",
        "for n in b:\n",
        "  print(f'{n}', end=' ')\n",
        "print()"
      ]
    },
    {
      "cell_type": "code",
      "source": [
        "b = range(9)#[0, 1, 2, 3, 4, 5, 6, 7, 8]\n",
        "for n in b:\n",
        "  print(f'{n+1}', end=' ')\n",
        "print()"
      ],
      "metadata": {
        "colab": {
          "base_uri": "https://localhost:8080/"
        },
        "id": "14YTdEoF6gRY",
        "outputId": "a02bfd9d-efb6-435f-a716-6ff14e4b05d4"
      },
      "execution_count": null,
      "outputs": [
        {
          "output_type": "stream",
          "name": "stdout",
          "text": [
            "1 2 3 4 5 6 7 8 9 \n"
          ]
        }
      ]
    },
    {
      "cell_type": "code",
      "execution_count": null,
      "metadata": {
        "id": "0GaT6CUK2xYC"
      },
      "outputs": [],
      "source": [
        "for n in range(1, 10):\n",
        "  print(f'{n}', end=' ')\n",
        "print()"
      ]
    },
    {
      "cell_type": "markdown",
      "metadata": {
        "id": "mr_25e3G3KQT"
      },
      "source": [
        "### Step 2: parameters of range(): step"
      ]
    },
    {
      "cell_type": "code",
      "execution_count": null,
      "metadata": {
        "id": "RfZP3NmC24Lo",
        "colab": {
          "base_uri": "https://localhost:8080/"
        },
        "outputId": "f45ca504-324c-44fe-a6dc-c09b093e1991"
      },
      "outputs": [
        {
          "output_type": "stream",
          "name": "stdout",
          "text": [
            "1 2 3 4 5 6 7 8 9 \n"
          ]
        }
      ],
      "source": [
        "for n in range(1, 10, 1):\n",
        "  print(f'{n}', end=' ')\n",
        "print()"
      ]
    },
    {
      "cell_type": "code",
      "execution_count": null,
      "metadata": {
        "id": "ga3Zasj1iuTj",
        "colab": {
          "base_uri": "https://localhost:8080/"
        },
        "outputId": "e1044a44-6422-446a-f09e-9a3e3c173062"
      },
      "outputs": [
        {
          "output_type": "stream",
          "name": "stdout",
          "text": [
            "1 3 5 7 9 11 13 15 17 \n"
          ]
        }
      ],
      "source": [
        "for n in range(1, 18, 2):\n",
        "  print(f'{n}', end=' ')\n",
        "print()\n"
      ]
    },
    {
      "cell_type": "markdown",
      "metadata": {
        "id": "dNKvjw_K3N3m"
      },
      "source": [
        "### Step 3: 使用range(),印出99乘法表/print out the multiplication table"
      ]
    },
    {
      "cell_type": "code",
      "execution_count": null,
      "metadata": {
        "id": "_-HUgFTSiyvm"
      },
      "outputs": [],
      "source": [
        "for n in range(1,10):\n",
        "  print(f'{n:1}*1 ={n*1:2}', end=' ')\n",
        "  print(f'{n:1}*2 ={n*2:2}', end=' ')\n",
        "  print(f'{n:1}*3 ={n*3:2}', end=' ')\n",
        "  print(f'{n:1}*4 ={n*4:2}', end=' ')\n",
        "  print(f'{n:1}*5 ={n*5:2}', end=' ')\n",
        "  print(f'{n:1}*6 ={n*6:2}', end=' ')\n",
        "  print(f'{n:1}*7 ={n*7:2}', end=' ')\n",
        "  print(f'{n:1}*8 ={n*8:2}', end=' ')\n",
        "  print(f'{n:1}*9 ={n*9:2}', end=' ')\n",
        "  print()"
      ]
    },
    {
      "cell_type": "code",
      "execution_count": null,
      "metadata": {
        "id": "yuAo6_tE3aWo"
      },
      "outputs": [],
      "source": [
        "for a in range(1,10):\n",
        "  for b in range(1,10):\n",
        "    print(f'{a:1}*{b:1} ={a*b:2}', end=' ')\n",
        "  print()"
      ]
    },
    {
      "cell_type": "markdown",
      "metadata": {
        "id": "L5Z7wEH8GULs"
      },
      "source": [
        "## Topic 3-map()函式\n",
        "\n"
      ]
    },
    {
      "cell_type": "markdown",
      "source": [
        "### Step 1: 輸入三個整數參數"
      ],
      "metadata": {
        "id": "8nsH3Gq_fZCq"
      }
    },
    {
      "cell_type": "code",
      "source": [
        "instr = input()#input()是讀入一行的字串\n",
        "paras = instr.split()#split()把一行的字串用空白切開\n",
        "a = int(paras[0])#int()把字串轉成整數\n",
        "b = int(paras[1])\n",
        "c = int(paras[2])\n",
        "print(f\"a={a} b={b} c={c}\")"
      ],
      "metadata": {
        "id": "H0ksF2lGfdKV"
      },
      "execution_count": null,
      "outputs": []
    },
    {
      "cell_type": "code",
      "source": [
        "#合併輸入和數字轉換\n",
        "a, b, c = map(int, input().split())\n",
        "print(f\"a={a} b={b} c={c}\")"
      ],
      "metadata": {
        "id": "U2MUFI2FfhMh"
      },
      "execution_count": null,
      "outputs": []
    },
    {
      "cell_type": "markdown",
      "source": [
        "### Step 2: 輸入三個浮點數參數"
      ],
      "metadata": {
        "id": "1szd9hufffLQ"
      }
    },
    {
      "cell_type": "code",
      "source": [
        "instr = input()\n",
        "paras = instr.split()\n",
        "a = float(paras[0])\n",
        "b = float(paras[1])\n",
        "c = float(paras[2])\n",
        "print(f\"a={a} b={b} c={c}\")"
      ],
      "metadata": {
        "id": "3cULoPBefsEv"
      },
      "execution_count": null,
      "outputs": []
    },
    {
      "cell_type": "code",
      "source": [
        "#合併輸入和數字轉換\n",
        "a, b, c = map(float, input().split())\n",
        "print(f\"a={a} b={b} c={c}\")"
      ],
      "metadata": {
        "id": "loImj8Ovf0SI"
      },
      "execution_count": null,
      "outputs": []
    },
    {
      "cell_type": "markdown",
      "source": [
        "## Topic 4-if條件陳述式/if condition statement\n",
        "<img src=\"https://i.ibb.co/sv727Wq/if-condition.png\" alt=\"alt text\" width=\"500\">"
      ],
      "metadata": {
        "id": "UB0zeC71gvdg"
      }
    },
    {
      "cell_type": "markdown",
      "source": [
        "### Step 1: 布林值/boolean\n",
        "True / False"
      ],
      "metadata": {
        "id": "eYl8z7-zgz04"
      }
    },
    {
      "cell_type": "code",
      "source": [
        "print(True)\n",
        "print(False)"
      ],
      "metadata": {
        "id": "wA1ExQwNg2_f"
      },
      "execution_count": null,
      "outputs": []
    },
    {
      "cell_type": "code",
      "source": [
        "print(5>3)\n",
        "print(5<3)"
      ],
      "metadata": {
        "id": "J9vntRQAg5V1"
      },
      "execution_count": null,
      "outputs": []
    },
    {
      "cell_type": "code",
      "source": [
        "bmi = 21.0\n",
        "print(bmi>24.0) #24.0 is Overweight"
      ],
      "metadata": {
        "id": "-hBsC4aog7TO"
      },
      "execution_count": null,
      "outputs": []
    },
    {
      "cell_type": "markdown",
      "source": [
        "### Step 2: if-condition"
      ],
      "metadata": {
        "id": "3ntXASRMg-Py"
      }
    },
    {
      "cell_type": "code",
      "source": [
        "bmi = float(input(\"Input yout bmi\"))\n",
        "if bmi>30.0:\n",
        "  print(\"Obesity\")"
      ],
      "metadata": {
        "id": "ZVmLPnREg_B9"
      },
      "execution_count": null,
      "outputs": []
    },
    {
      "cell_type": "markdown",
      "source": [
        "### Step 3: if-else-condition"
      ],
      "metadata": {
        "id": "G-fmOOKGhDj4"
      }
    },
    {
      "cell_type": "code",
      "source": [
        "bmi = float(input(\"Input yout bmi\"))\n",
        "if bmi>24.0:\n",
        "  print(\"Overweight\")\n",
        "else:\n",
        "  print(\"Healthy weight\")"
      ],
      "metadata": {
        "id": "ZZVxuXkqhEag"
      },
      "execution_count": null,
      "outputs": []
    },
    {
      "cell_type": "markdown",
      "source": [],
      "metadata": {
        "id": "jPIm8Mclg0m0"
      }
    }
  ],
  "metadata": {
    "colab": {
      "provenance": []
    },
    "kernelspec": {
      "display_name": "Python 3 (ipykernel)",
      "language": "python",
      "name": "python3"
    },
    "language_info": {
      "codemirror_mode": {
        "name": "ipython",
        "version": 3
      },
      "file_extension": ".py",
      "mimetype": "text/x-python",
      "name": "python",
      "nbconvert_exporter": "python",
      "pygments_lexer": "ipython3",
      "version": "3.9.7"
    }
  },
  "nbformat": 4,
  "nbformat_minor": 0
}